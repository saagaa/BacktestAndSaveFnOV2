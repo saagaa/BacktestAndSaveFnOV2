{
 "cells": [
  {
   "cell_type": "code",
   "execution_count": 16,
   "metadata": {},
   "outputs": [],
   "source": [
    "import os\n",
    "import sys\n",
    "module_path = os.path.abspath(os.path.join('..'))\n",
    "if module_path not in sys.path:\n",
    "    sys.path.append(module_path)\n"
   ]
  },
  {
   "cell_type": "code",
   "execution_count": 17,
   "metadata": {},
   "outputs": [],
   "source": [
    "from DataFetcher.DataBase.DataBaseAggregator import *\n",
    "from Strategies.DividendCaptureFutureStock import *\n"
   ]
  },
  {
   "cell_type": "code",
   "execution_count": 18,
   "metadata": {},
   "outputs": [],
   "source": [
    "import matplotlib\n",
    "from matplotlib import figure\n",
    "import matplotlib.pyplot as plt\n"
   ]
  },
  {
   "cell_type": "code",
   "execution_count": 19,
   "metadata": {},
   "outputs": [
    {
     "name": "stdout",
     "output_type": "stream",
     "text": [
      "<DataFetcher.DataAggregator.DataAggregate.DataAggregate object at 0x1DAB4D48>\n"
     ]
    }
   ],
   "source": [
    "DB = DataBaseAggregator()"
   ]
  },
  {
   "cell_type": "code",
   "execution_count": 20,
   "metadata": {},
   "outputs": [],
   "source": [
    "import yfinance as yf"
   ]
  },
  {
   "cell_type": "code",
   "execution_count": 21,
   "metadata": {},
   "outputs": [],
   "source": [
    "vedl = yf.Ticker('VEDL.NS')"
   ]
  },
  {
   "cell_type": "code",
   "execution_count": 22,
   "metadata": {},
   "outputs": [
    {
     "data": {
      "text/plain": [
       "Date\n",
       "1996-11-04     2.50\n",
       "1997-08-26     2.50\n",
       "1998-08-03     2.50\n",
       "1999-08-30     2.50\n",
       "2000-04-13     1.50\n",
       "2001-07-23     3.00\n",
       "2002-06-20     3.00\n",
       "2003-09-09     2.50\n",
       "2004-02-12     2.00\n",
       "2004-06-28     8.00\n",
       "2005-01-06     5.00\n",
       "2005-07-11    20.00\n",
       "2006-03-13    15.00\n",
       "2006-12-04    25.00\n",
       "2007-02-19    15.00\n",
       "2007-09-21    25.00\n",
       "2008-02-06    15.00\n",
       "2008-07-11    30.00\n",
       "2009-07-31     2.25\n",
       "2010-07-02     3.25\n",
       "2011-06-30     3.50\n",
       "2012-02-01     2.00\n",
       "2012-06-08     2.00\n",
       "2013-05-31     0.10\n",
       "2013-11-06     1.50\n",
       "2014-07-04     1.75\n",
       "2014-11-03     1.75\n",
       "2015-07-03     2.35\n",
       "2015-07-06     2.35\n",
       "2015-10-30     3.50\n",
       "2016-11-07     1.75\n",
       "2017-04-11    17.70\n",
       "2018-03-20    21.20\n",
       "2018-11-06    17.00\n",
       "2019-03-13     1.85\n",
       "2020-03-05     3.90\n",
       "Name: Dividends, dtype: float64"
      ]
     },
     "execution_count": 22,
     "metadata": {},
     "output_type": "execute_result"
    }
   ],
   "source": [
    "vedl.dividends"
   ]
  },
  {
   "cell_type": "code",
   "execution_count": 23,
   "metadata": {},
   "outputs": [
    {
     "data": {
      "text/plain": [
       "Date\n",
       "2016-11-07     1.75\n",
       "2017-04-11    17.70\n",
       "2018-03-20    21.20\n",
       "2018-11-06    17.00\n",
       "2019-03-13     1.85\n",
       "2020-03-05     3.90\n",
       "Name: Dividends, dtype: float64"
      ]
     },
     "execution_count": 23,
     "metadata": {},
     "output_type": "execute_result"
    }
   ],
   "source": [
    "vedl.dividends[30:]"
   ]
  },
  {
   "cell_type": "code",
   "execution_count": 39,
   "metadata": {},
   "outputs": [],
   "source": [
    "strat = DividendCaptureFutureStock('VEDL', DB)"
   ]
  },
  {
   "cell_type": "code",
   "execution_count": 30,
   "metadata": {},
   "outputs": [
    {
     "data": {
      "text/plain": [
       "Timestamp('1996-11-04 00:00:00')"
      ]
     },
     "execution_count": 30,
     "metadata": {},
     "output_type": "execute_result"
    }
   ],
   "source": [
    "pd.to_datetime( vedl.dividends.index[0] )"
   ]
  },
  {
   "cell_type": "code",
   "execution_count": 48,
   "metadata": {},
   "outputs": [],
   "source": [
    "divdends = []"
   ]
  },
  {
   "cell_type": "code",
   "execution_count": 49,
   "metadata": {},
   "outputs": [],
   "source": [
    "d = vedl.dividends[30:]\n",
    "for div in range(0,len(d)):\n",
    "    divdends.append(((d.index[div]).date(), d[div]))"
   ]
  },
  {
   "cell_type": "code",
   "execution_count": 54,
   "metadata": {},
   "outputs": [
    {
     "data": {
      "text/plain": [
       "Date\n",
       "2015-07-03     2.35\n",
       "2015-07-06     2.35\n",
       "2015-10-30     3.50\n",
       "2016-11-07     1.75\n",
       "2017-04-11    17.70\n",
       "2018-03-20    21.20\n",
       "2018-11-06    17.00\n",
       "2019-03-13     1.85\n",
       "2020-03-05     3.90\n",
       "Name: Dividends, dtype: float64"
      ]
     },
     "execution_count": 54,
     "metadata": {},
     "output_type": "execute_result"
    }
   ],
   "source": [
    "vedl.dividends[date(2015,1,1):]"
   ]
  },
  {
   "cell_type": "code",
   "execution_count": 51,
   "metadata": {},
   "outputs": [
    {
     "name": "stdout",
     "output_type": "stream",
     "text": [
      "{2018: {9: {datetime.date(2018, 9, 19), datetime.date(2018, 9, 12), datetime.date(2018, 9, 21), datetime.date(2018, 9, 6), datetime.date(2018, 9, 27)}, 3: {datetime.date(2018, 3, 28), datetime.date(2018, 3, 15), datetime.date(2018, 3, 1), datetime.date(2018, 3, 29), datetime.date(2018, 3, 8), datetime.date(2018, 3, 16), datetime.date(2018, 3, 22)}, 2: {datetime.date(2018, 2, 16), datetime.date(2018, 2, 22), datetime.date(2018, 2, 1), datetime.date(2018, 2, 15), datetime.date(2018, 2, 8)}, 5: {datetime.date(2018, 5, 18), datetime.date(2018, 5, 31), datetime.date(2018, 5, 3), datetime.date(2018, 5, 10), datetime.date(2018, 5, 17), datetime.date(2018, 5, 24)}, 8: {datetime.date(2018, 8, 30), datetime.date(2018, 8, 2), datetime.date(2018, 8, 9), datetime.date(2018, 8, 16), datetime.date(2018, 8, 17), datetime.date(2018, 8, 23)}, 11: {datetime.date(2018, 11, 16), datetime.date(2018, 11, 29), datetime.date(2018, 11, 15), datetime.date(2018, 11, 22), datetime.date(2018, 11, 6), datetime.date(2018, 11, 1)}, 7: {datetime.date(2018, 7, 20), datetime.date(2018, 7, 5), datetime.date(2018, 7, 12), datetime.date(2018, 7, 19), datetime.date(2018, 7, 26)}, 10: {datetime.date(2018, 10, 17), datetime.date(2018, 10, 25), datetime.date(2018, 10, 19), datetime.date(2018, 10, 11), datetime.date(2018, 10, 4)}, 6: {datetime.date(2018, 6, 7), datetime.date(2018, 6, 15), datetime.date(2018, 6, 14), datetime.date(2018, 6, 21), datetime.date(2018, 6, 28)}, 12: {datetime.date(2018, 12, 6), datetime.date(2018, 12, 21), datetime.date(2018, 12, 27), datetime.date(2018, 12, 13), datetime.date(2018, 12, 20)}, 4: {datetime.date(2018, 4, 12), datetime.date(2018, 4, 20), datetime.date(2018, 4, 26), datetime.date(2018, 4, 19), datetime.date(2018, 4, 5)}, 1: {datetime.date(2018, 1, 4), datetime.date(2018, 1, 11), datetime.date(2018, 1, 18), datetime.date(2018, 1, 25), datetime.date(2018, 1, 19)}}, 2005: {10: {datetime.date(2005, 10, 27)}, 4: {datetime.date(2005, 4, 28)}, 2: {datetime.date(2005, 2, 24)}, 1: {datetime.date(2005, 1, 27)}, 5: {datetime.date(2005, 5, 26)}, 3: {datetime.date(2005, 3, 31)}, 11: {datetime.date(2005, 11, 24)}, 7: {datetime.date(2005, 7, 28)}, 6: {datetime.date(2005, 6, 30)}, 12: {datetime.date(2005, 12, 29)}, 9: {datetime.date(2005, 9, 29)}, 8: {datetime.date(2005, 8, 25)}}, 2020: {5: {datetime.date(2020, 5, 21), datetime.date(2020, 5, 14), datetime.date(2020, 5, 28), datetime.date(2020, 5, 7)}, 3: {datetime.date(2020, 3, 5), datetime.date(2020, 3, 26), datetime.date(2020, 3, 19), datetime.date(2020, 3, 12)}, 7: {datetime.date(2020, 7, 23), datetime.date(2020, 7, 16), datetime.date(2020, 7, 2), datetime.date(2020, 7, 30), datetime.date(2020, 7, 9)}, 9: {datetime.date(2020, 9, 10), datetime.date(2020, 9, 3), datetime.date(2020, 9, 17), datetime.date(2020, 9, 24)}, 2: {datetime.date(2020, 2, 20), datetime.date(2020, 2, 27), datetime.date(2020, 2, 13), datetime.date(2020, 2, 6)}, 4: {datetime.date(2020, 4, 16), datetime.date(2020, 4, 9), datetime.date(2020, 4, 23), datetime.date(2020, 4, 1), datetime.date(2020, 4, 30)}, 8: {datetime.date(2020, 8, 13), datetime.date(2020, 8, 27), datetime.date(2020, 8, 6), datetime.date(2020, 8, 20)}, 1: {datetime.date(2020, 1, 2), datetime.date(2020, 1, 9), datetime.date(2020, 1, 16), datetime.date(2020, 1, 30), datetime.date(2020, 1, 23)}, 6: {datetime.date(2020, 6, 4), datetime.date(2020, 6, 11), datetime.date(2020, 6, 25), datetime.date(2020, 6, 18)}, 10: {datetime.date(2020, 10, 1), datetime.date(2020, 10, 15), datetime.date(2020, 10, 29), datetime.date(2020, 10, 8)}, 12: {datetime.date(2020, 12, 31)}}, 2017: {2: {datetime.date(2017, 2, 16), datetime.date(2017, 2, 17), datetime.date(2017, 2, 9), datetime.date(2017, 2, 23), datetime.date(2017, 2, 2)}, 11: {datetime.date(2017, 11, 17), datetime.date(2017, 11, 23), datetime.date(2017, 11, 9), datetime.date(2017, 11, 30), datetime.date(2017, 11, 2), datetime.date(2017, 11, 16)}, 3: {datetime.date(2017, 3, 9), datetime.date(2017, 3, 30), datetime.date(2017, 3, 17), datetime.date(2017, 3, 16), datetime.date(2017, 3, 23), datetime.date(2017, 3, 2)}, 8: {datetime.date(2017, 8, 24), datetime.date(2017, 8, 3), datetime.date(2017, 8, 17), datetime.date(2017, 8, 18), datetime.date(2017, 8, 31), datetime.date(2017, 8, 10)}, 12: {datetime.date(2017, 12, 28), datetime.date(2017, 12, 15), datetime.date(2017, 12, 21), datetime.date(2017, 12, 14), datetime.date(2017, 12, 7)}, 6: {datetime.date(2017, 6, 8), datetime.date(2017, 6, 1), datetime.date(2017, 6, 15), datetime.date(2017, 6, 29), datetime.date(2017, 6, 16), datetime.date(2017, 6, 22)}, 4: {datetime.date(2017, 4, 21), datetime.date(2017, 4, 6), datetime.date(2017, 4, 27), datetime.date(2017, 4, 20), datetime.date(2017, 4, 13)}, 7: {datetime.date(2017, 7, 21), datetime.date(2017, 7, 27), datetime.date(2017, 7, 6), datetime.date(2017, 7, 13), datetime.date(2017, 7, 20)}, 5: {datetime.date(2017, 5, 18), datetime.date(2017, 5, 25), datetime.date(2017, 5, 11), datetime.date(2017, 5, 19), datetime.date(2017, 5, 4)}, 9: {datetime.date(2017, 9, 28), datetime.date(2017, 9, 21), datetime.date(2017, 9, 7), datetime.date(2017, 9, 14), datetime.date(2017, 9, 15)}, 10: {datetime.date(2017, 10, 26), datetime.date(2017, 10, 12), datetime.date(2017, 10, 18), datetime.date(2017, 10, 5)}, 1: {datetime.date(2017, 1, 12), datetime.date(2017, 1, 20), datetime.date(2017, 1, 25), datetime.date(2017, 1, 5), datetime.date(2017, 1, 19)}}, 2014: {8: {datetime.date(2014, 8, 28), datetime.date(2014, 8, 14)}, 6: {datetime.date(2014, 6, 26), datetime.date(2014, 6, 20)}, 1: {datetime.date(2014, 1, 17), datetime.date(2014, 1, 30)}, 7: {datetime.date(2014, 7, 18), datetime.date(2014, 7, 31)}, 10: {datetime.date(2014, 10, 30), datetime.date(2014, 10, 17)}, 2: {datetime.date(2014, 2, 27), datetime.date(2014, 2, 21), datetime.date(2014, 2, 26)}, 11: {datetime.date(2014, 11, 21), datetime.date(2014, 11, 27)}, 9: {datetime.date(2014, 9, 19), datetime.date(2014, 9, 25)}, 12: {datetime.date(2014, 12, 24), datetime.date(2014, 12, 19)}, 3: {datetime.date(2014, 3, 21), datetime.date(2014, 3, 27)}, 5: {datetime.date(2014, 5, 16), datetime.date(2014, 5, 29)}, 4: {datetime.date(2014, 4, 24), datetime.date(2014, 4, 17)}}, 2012: {3: {datetime.date(2012, 3, 29), datetime.date(2012, 3, 16)}, 9: {datetime.date(2012, 9, 27), datetime.date(2012, 9, 21)}, 8: {datetime.date(2012, 8, 30), datetime.date(2012, 8, 17)}, 11: {datetime.date(2012, 11, 29), datetime.date(2012, 11, 16)}, 7: {datetime.date(2012, 7, 26), datetime.date(2012, 7, 20)}, 6: {datetime.date(2012, 6, 28), datetime.date(2012, 6, 15)}, 10: {datetime.date(2012, 10, 19), datetime.date(2012, 10, 25)}, 5: {datetime.date(2012, 5, 18), datetime.date(2012, 5, 31)}, 4: {datetime.date(2012, 4, 26), datetime.date(2012, 4, 20)}, 12: {datetime.date(2012, 12, 27), datetime.date(2012, 12, 21)}, 2: {datetime.date(2012, 2, 17), datetime.date(2012, 2, 23)}, 1: {datetime.date(2012, 1, 25), datetime.date(2012, 1, 20)}}, 2006: {3: {datetime.date(2006, 3, 30)}, 6: {datetime.date(2006, 6, 29)}, 11: {datetime.date(2006, 11, 30)}, 5: {datetime.date(2006, 5, 25)}, 4: {datetime.date(2006, 4, 27)}, 7: {datetime.date(2006, 7, 27)}, 10: {datetime.date(2006, 10, 26)}, 8: {datetime.date(2006, 8, 31)}, 9: {datetime.date(2006, 9, 28)}, 12: {datetime.date(2006, 12, 28)}, 2: {datetime.date(2006, 2, 23)}, 1: {datetime.date(2006, 1, 25)}}, 2019: {4: {datetime.date(2019, 4, 4), datetime.date(2019, 4, 18), datetime.date(2019, 4, 25), datetime.date(2019, 4, 11)}, 10: {datetime.date(2019, 10, 10), datetime.date(2019, 10, 31), datetime.date(2019, 10, 24), datetime.date(2019, 10, 17), datetime.date(2019, 10, 3)}, 6: {datetime.date(2019, 6, 6), datetime.date(2019, 6, 13), datetime.date(2019, 6, 21), datetime.date(2019, 6, 20), datetime.date(2019, 6, 27)}, 5: {datetime.date(2019, 5, 9), datetime.date(2019, 5, 2), datetime.date(2019, 5, 30), datetime.date(2019, 5, 16), datetime.date(2019, 5, 23)}, 8: {datetime.date(2019, 8, 8), datetime.date(2019, 8, 1), datetime.date(2019, 8, 14), datetime.date(2019, 8, 22), datetime.date(2019, 8, 29)}, 1: {datetime.date(2019, 1, 3), datetime.date(2019, 1, 31), datetime.date(2019, 1, 24), datetime.date(2019, 1, 17), datetime.date(2019, 1, 10)}, 3: {datetime.date(2019, 3, 28), datetime.date(2019, 3, 14), datetime.date(2019, 3, 15), datetime.date(2019, 3, 20), datetime.date(2019, 3, 7)}, 7: {datetime.date(2019, 7, 11), datetime.date(2019, 7, 18), datetime.date(2019, 7, 25), datetime.date(2019, 7, 4)}, 12: {datetime.date(2019, 12, 5), datetime.date(2019, 12, 26), datetime.date(2019, 12, 19), datetime.date(2019, 12, 12)}, 2: {datetime.date(2019, 2, 14), datetime.date(2019, 2, 21), datetime.date(2019, 2, 28), datetime.date(2019, 2, 7)}, 9: {datetime.date(2019, 9, 12), datetime.date(2019, 9, 19), datetime.date(2019, 9, 5), datetime.date(2019, 9, 26)}, 11: {datetime.date(2019, 11, 14), datetime.date(2019, 11, 7), datetime.date(2019, 11, 21), datetime.date(2019, 11, 28)}}, 2007: {9: {datetime.date(2007, 9, 27)}, 3: {datetime.date(2007, 3, 29)}, 11: {datetime.date(2007, 11, 29)}, 7: {datetime.date(2007, 7, 26)}, 5: {datetime.date(2007, 5, 31)}, 10: {datetime.date(2007, 10, 25)}, 4: {datetime.date(2007, 4, 26)}, 6: {datetime.date(2007, 6, 28)}, 2: {datetime.date(2007, 2, 22)}, 8: {datetime.date(2007, 8, 30)}, 12: {datetime.date(2007, 12, 27)}, 1: {datetime.date(2007, 1, 25)}}, 2016: {7: {datetime.date(2016, 7, 7), datetime.date(2016, 7, 14), datetime.date(2016, 7, 15), datetime.date(2016, 7, 28), datetime.date(2016, 7, 21)}, 12: {datetime.date(2016, 12, 1), datetime.date(2016, 12, 16), datetime.date(2016, 12, 22), datetime.date(2016, 12, 29), datetime.date(2016, 12, 15), datetime.date(2016, 12, 8)}, 6: {datetime.date(2016, 6, 9), datetime.date(2016, 6, 30), datetime.date(2016, 6, 23), datetime.date(2016, 6, 16), datetime.date(2016, 6, 2), datetime.date(2016, 6, 17)}, 10: {datetime.date(2016, 10, 20), datetime.date(2016, 10, 6), datetime.date(2016, 10, 21), datetime.date(2016, 10, 13), datetime.date(2016, 10, 27)}, 9: {datetime.date(2016, 9, 8), datetime.date(2016, 9, 22), datetime.date(2016, 9, 29), datetime.date(2016, 9, 15), datetime.date(2016, 9, 16), datetime.date(2016, 9, 1)}, 3: {datetime.date(2016, 3, 31), datetime.date(2016, 3, 18)}, 4: {datetime.date(2016, 4, 13), datetime.date(2016, 4, 28)}, 8: {datetime.date(2016, 8, 4), datetime.date(2016, 8, 19), datetime.date(2016, 8, 18), datetime.date(2016, 8, 25), datetime.date(2016, 8, 11)}, 11: {datetime.date(2016, 11, 18), datetime.date(2016, 11, 24), datetime.date(2016, 11, 17), datetime.date(2016, 11, 10), datetime.date(2016, 11, 3)}, 1: {datetime.date(2016, 1, 15), datetime.date(2016, 1, 28)}, 2: {datetime.date(2016, 2, 19), datetime.date(2016, 2, 25)}, 5: {datetime.date(2016, 5, 26), datetime.date(2016, 5, 20)}}, 2001: {3: {datetime.date(2001, 3, 29)}, 11: {datetime.date(2001, 11, 29)}, 7: {datetime.date(2001, 7, 26)}, 9: {datetime.date(2001, 9, 27)}, 5: {datetime.date(2001, 5, 31)}, 10: {datetime.date(2001, 10, 25)}, 4: {datetime.date(2001, 4, 26)}, 2: {datetime.date(2001, 2, 22)}, 6: {datetime.date(2001, 6, 28)}, 8: {datetime.date(2001, 8, 30)}, 12: {datetime.date(2001, 12, 27)}, 1: {datetime.date(2001, 1, 25)}}, 2015: {9: {datetime.date(2015, 9, 24), datetime.date(2015, 9, 18)}, 6: {datetime.date(2015, 6, 25), datetime.date(2015, 6, 19)}, 11: {datetime.date(2015, 11, 26), datetime.date(2015, 11, 20)}, 8: {datetime.date(2015, 8, 27), datetime.date(2015, 8, 21)}, 7: {datetime.date(2015, 7, 30), datetime.date(2015, 7, 17)}, 12: {datetime.date(2015, 12, 18), datetime.date(2015, 12, 31)}, 2: {datetime.date(2015, 2, 26), datetime.date(2015, 2, 20)}, 1: {datetime.date(2015, 1, 16), datetime.date(2015, 1, 29)}, 10: {datetime.date(2015, 10, 16), datetime.date(2015, 10, 29)}, 4: {datetime.date(2015, 4, 17), datetime.date(2015, 4, 30)}, 5: {datetime.date(2015, 5, 15), datetime.date(2015, 5, 28)}, 3: {datetime.date(2015, 3, 20), datetime.date(2015, 3, 26)}}, 2013: {3: {datetime.date(2013, 3, 15), datetime.date(2013, 3, 28)}, 5: {datetime.date(2013, 5, 30), datetime.date(2013, 5, 17)}, 11: {datetime.date(2013, 11, 28), datetime.date(2013, 11, 15)}, 4: {datetime.date(2013, 4, 18), datetime.date(2013, 4, 25)}, 7: {datetime.date(2013, 7, 19), datetime.date(2013, 7, 25)}, 6: {datetime.date(2013, 6, 21), datetime.date(2013, 6, 27)}, 9: {datetime.date(2013, 9, 26), datetime.date(2013, 9, 20)}, 8: {datetime.date(2013, 8, 29), datetime.date(2013, 8, 16)}, 10: {datetime.date(2013, 10, 18), datetime.date(2013, 10, 31)}, 12: {datetime.date(2013, 12, 20), datetime.date(2013, 12, 26)}, 2: {datetime.date(2013, 2, 28), datetime.date(2013, 2, 15)}, 1: {datetime.date(2013, 1, 31), datetime.date(2013, 1, 18)}}, 2009: {9: {datetime.date(2009, 9, 24)}, 11: {datetime.date(2009, 11, 26)}, 7: {datetime.date(2009, 7, 30)}, 8: {datetime.date(2009, 8, 27)}, 2: {datetime.date(2009, 2, 26)}, 1: {datetime.date(2009, 1, 29)}, 6: {datetime.date(2009, 6, 25)}, 10: {datetime.date(2009, 10, 29)}, 12: {datetime.date(2009, 12, 31)}, 4: {datetime.date(2009, 4, 30)}, 5: {datetime.date(2009, 5, 28)}, 3: {datetime.date(2009, 3, 26)}}, 2008: {12: {datetime.date(2008, 12, 25)}, 6: {datetime.date(2008, 6, 26)}, 11: {datetime.date(2008, 11, 27)}, 7: {datetime.date(2008, 7, 31)}, 8: {datetime.date(2008, 8, 28)}, 5: {datetime.date(2008, 5, 29)}, 9: {datetime.date(2008, 9, 25)}, 10: {datetime.date(2008, 10, 29)}, 3: {datetime.date(2008, 3, 27)}, 1: {datetime.date(2008, 1, 31)}, 4: {datetime.date(2008, 4, 24)}, 2: {datetime.date(2008, 2, 28)}}, 2011: {9: {datetime.date(2011, 9, 16), datetime.date(2011, 9, 29)}, 10: {datetime.date(2011, 10, 21), datetime.date(2011, 10, 25)}, 2: {datetime.date(2011, 2, 24)}, 4: {datetime.date(2011, 4, 28)}, 1: {datetime.date(2011, 1, 27)}, 12: {datetime.date(2011, 12, 29), datetime.date(2011, 12, 16)}, 5: {datetime.date(2011, 5, 26)}, 3: {datetime.date(2011, 3, 31)}, 11: {datetime.date(2011, 11, 24), datetime.date(2011, 11, 18)}, 7: {datetime.date(2011, 7, 28)}, 6: {datetime.date(2011, 6, 30)}, 8: {datetime.date(2011, 8, 25)}}, 2004: {7: {datetime.date(2004, 7, 29)}, 2: {datetime.date(2004, 2, 26)}, 1: {datetime.date(2004, 1, 29)}, 8: {datetime.date(2004, 8, 26)}, 3: {datetime.date(2004, 3, 25)}, 6: {datetime.date(2004, 6, 24)}, 10: {datetime.date(2004, 10, 28)}, 12: {datetime.date(2004, 12, 30)}, 9: {datetime.date(2004, 9, 30)}, 11: {datetime.date(2004, 11, 25)}, 4: {datetime.date(2004, 4, 29)}, 5: {datetime.date(2004, 5, 27)}}, 2003: {2: {datetime.date(2003, 2, 27)}, 6: {datetime.date(2003, 6, 26)}, 11: {datetime.date(2003, 11, 27)}, 7: {datetime.date(2003, 7, 31)}, 8: {datetime.date(2003, 8, 28)}, 5: {datetime.date(2003, 5, 29)}, 9: {datetime.date(2003, 9, 25)}, 3: {datetime.date(2003, 3, 27)}, 10: {datetime.date(2003, 10, 30)}, 12: {datetime.date(2003, 12, 24)}, 1: {datetime.date(2003, 1, 30)}, 4: {datetime.date(2003, 4, 24)}}, 2000: {11: {datetime.date(2000, 11, 30)}, 6: {datetime.date(2000, 6, 29)}, 10: {datetime.date(2000, 10, 25)}, 7: {datetime.date(2000, 7, 27)}, 8: {datetime.date(2000, 8, 31)}, 9: {datetime.date(2000, 9, 28)}, 12: {datetime.date(2000, 12, 28)}}, 2010: {7: {datetime.date(2010, 7, 29)}, 1: {datetime.date(2010, 1, 28)}, 2: {datetime.date(2010, 2, 25)}, 8: {datetime.date(2010, 8, 26)}, 3: {datetime.date(2010, 3, 25)}, 6: {datetime.date(2010, 6, 24)}, 4: {datetime.date(2010, 4, 29)}, 10: {datetime.date(2010, 10, 28)}, 12: {datetime.date(2010, 12, 30)}, 11: {datetime.date(2010, 11, 25)}, 9: {datetime.date(2010, 9, 30)}, 5: {datetime.date(2010, 5, 27)}}, 2002: {4: {datetime.date(2002, 4, 25)}, 6: {datetime.date(2002, 6, 27)}, 9: {datetime.date(2002, 9, 26)}, 12: {datetime.date(2002, 12, 26)}, 3: {datetime.date(2002, 3, 28)}, 7: {datetime.date(2002, 7, 25)}, 11: {datetime.date(2002, 11, 28)}, 10: {datetime.date(2002, 10, 31)}, 5: {datetime.date(2002, 5, 30)}, 8: {datetime.date(2002, 8, 29)}, 1: {datetime.date(2002, 1, 31)}, 2: {datetime.date(2002, 2, 28)}}, 2025: {6: {datetime.date(2025, 6, 26)}}, 2023: {6: {datetime.date(2023, 6, 29)}, 12: {datetime.date(2023, 12, 28)}}, 2024: {6: {datetime.date(2024, 6, 27)}, 12: {datetime.date(2024, 12, 26)}}, 2022: {6: {datetime.date(2022, 6, 30)}, 12: {datetime.date(2022, 12, 29)}}, 2021: {3: {datetime.date(2021, 3, 25)}, 6: {datetime.date(2021, 6, 24)}, 12: {datetime.date(2021, 12, 30)}}}\n",
      "NSEpyMarketDataAdapter::get_price_futuresunsupported operand type(s) for -: 'datetime.date' and 'Timestamp'\n"
     ]
    },
    {
     "name": "stderr",
     "output_type": "stream",
     "text": [
      "--- Logging error ---\n",
      "Traceback (most recent call last):\n",
      "  File \"C:\\Users\\ansaggar\\AppData\\Local\\Programs\\Python\\Python38-32\\lib\\logging\\__init__.py\", line 1084, in emit\n",
      "    stream.write(msg + self.terminator)\n",
      "TypeError: a bytes-like object is required, not 'str'\n",
      "Call stack:\n",
      "  File \"C:\\Users\\ansaggar\\AppData\\Local\\Programs\\Python\\Python38-32\\lib\\runpy.py\", line 192, in _run_module_as_main\n",
      "    return _run_code(code, main_globals, None,\n",
      "  File \"C:\\Users\\ansaggar\\AppData\\Local\\Programs\\Python\\Python38-32\\lib\\runpy.py\", line 85, in _run_code\n",
      "    exec(code, run_globals)\n",
      "  File \"C:\\Users\\ansaggar\\AppData\\Local\\Programs\\Python\\Python38-32\\lib\\site-packages\\ipykernel_launcher.py\", line 16, in <module>\n",
      "    app.launch_new_instance()\n",
      "  File \"C:\\Users\\ansaggar\\AppData\\Local\\Programs\\Python\\Python38-32\\lib\\site-packages\\traitlets\\config\\application.py\", line 845, in launch_instance\n",
      "    app.start()\n",
      "  File \"C:\\Users\\ansaggar\\AppData\\Local\\Programs\\Python\\Python38-32\\lib\\site-packages\\ipykernel\\kernelapp.py\", line 612, in start\n",
      "    self.io_loop.start()\n",
      "  File \"C:\\Users\\ansaggar\\AppData\\Local\\Programs\\Python\\Python38-32\\lib\\site-packages\\tornado\\platform\\asyncio.py\", line 149, in start\n",
      "    self.asyncio_loop.run_forever()\n",
      "  File \"C:\\Users\\ansaggar\\AppData\\Local\\Programs\\Python\\Python38-32\\lib\\asyncio\\base_events.py\", line 563, in run_forever\n",
      "    self._run_once()\n",
      "  File \"C:\\Users\\ansaggar\\AppData\\Local\\Programs\\Python\\Python38-32\\lib\\asyncio\\base_events.py\", line 1844, in _run_once\n",
      "    handle._run()\n",
      "  File \"C:\\Users\\ansaggar\\AppData\\Local\\Programs\\Python\\Python38-32\\lib\\asyncio\\events.py\", line 81, in _run\n",
      "    self._context.run(self._callback, *self._args)\n",
      "  File \"C:\\Users\\ansaggar\\AppData\\Local\\Programs\\Python\\Python38-32\\lib\\site-packages\\tornado\\ioloop.py\", line 690, in <lambda>\n",
      "    lambda f: self._run_callback(functools.partial(callback, future))\n",
      "  File \"C:\\Users\\ansaggar\\AppData\\Local\\Programs\\Python\\Python38-32\\lib\\site-packages\\tornado\\ioloop.py\", line 743, in _run_callback\n",
      "    ret = callback()\n",
      "  File \"C:\\Users\\ansaggar\\AppData\\Local\\Programs\\Python\\Python38-32\\lib\\site-packages\\tornado\\gen.py\", line 787, in inner\n",
      "    self.run()\n",
      "  File \"C:\\Users\\ansaggar\\AppData\\Local\\Programs\\Python\\Python38-32\\lib\\site-packages\\tornado\\gen.py\", line 748, in run\n",
      "    yielded = self.gen.send(value)\n",
      "  File \"C:\\Users\\ansaggar\\AppData\\Local\\Programs\\Python\\Python38-32\\lib\\site-packages\\ipykernel\\kernelbase.py\", line 365, in process_one\n",
      "    yield gen.maybe_future(dispatch(*args))\n",
      "  File \"C:\\Users\\ansaggar\\AppData\\Local\\Programs\\Python\\Python38-32\\lib\\site-packages\\tornado\\gen.py\", line 209, in wrapper\n",
      "    yielded = next(result)\n",
      "  File \"C:\\Users\\ansaggar\\AppData\\Local\\Programs\\Python\\Python38-32\\lib\\site-packages\\ipykernel\\kernelbase.py\", line 268, in dispatch_shell\n",
      "    yield gen.maybe_future(handler(stream, idents, msg))\n",
      "  File \"C:\\Users\\ansaggar\\AppData\\Local\\Programs\\Python\\Python38-32\\lib\\site-packages\\tornado\\gen.py\", line 209, in wrapper\n",
      "    yielded = next(result)\n",
      "  File \"C:\\Users\\ansaggar\\AppData\\Local\\Programs\\Python\\Python38-32\\lib\\site-packages\\ipykernel\\kernelbase.py\", line 543, in execute_request\n",
      "    self.do_execute(\n",
      "  File \"C:\\Users\\ansaggar\\AppData\\Local\\Programs\\Python\\Python38-32\\lib\\site-packages\\tornado\\gen.py\", line 209, in wrapper\n",
      "    yielded = next(result)\n",
      "  File \"C:\\Users\\ansaggar\\AppData\\Local\\Programs\\Python\\Python38-32\\lib\\site-packages\\ipykernel\\ipkernel.py\", line 306, in do_execute\n",
      "    res = shell.run_cell(code, store_history=store_history, silent=silent)\n",
      "  File \"C:\\Users\\ansaggar\\AppData\\Local\\Programs\\Python\\Python38-32\\lib\\site-packages\\ipykernel\\zmqshell.py\", line 536, in run_cell\n",
      "    return super(ZMQInteractiveShell, self).run_cell(*args, **kwargs)\n",
      "  File \"C:\\Users\\ansaggar\\AppData\\Local\\Programs\\Python\\Python38-32\\lib\\site-packages\\IPython\\core\\interactiveshell.py\", line 2876, in run_cell\n",
      "    result = self._run_cell(\n",
      "  File \"C:\\Users\\ansaggar\\AppData\\Local\\Programs\\Python\\Python38-32\\lib\\site-packages\\IPython\\core\\interactiveshell.py\", line 2922, in _run_cell\n",
      "    return runner(coro)\n",
      "  File \"C:\\Users\\ansaggar\\AppData\\Local\\Programs\\Python\\Python38-32\\lib\\site-packages\\IPython\\core\\async_helpers.py\", line 68, in _pseudo_sync_runner\n",
      "    coro.send(None)\n",
      "  File \"C:\\Users\\ansaggar\\AppData\\Local\\Programs\\Python\\Python38-32\\lib\\site-packages\\IPython\\core\\interactiveshell.py\", line 3145, in run_cell_async\n",
      "    has_raised = await self.run_ast_nodes(code_ast.body, cell_name,\n",
      "  File \"C:\\Users\\ansaggar\\AppData\\Local\\Programs\\Python\\Python38-32\\lib\\site-packages\\IPython\\core\\interactiveshell.py\", line 3337, in run_ast_nodes\n",
      "    if (await self.run_code(code, result,  async_=asy)):\n",
      "  File \"C:\\Users\\ansaggar\\AppData\\Local\\Programs\\Python\\Python38-32\\lib\\site-packages\\IPython\\core\\interactiveshell.py\", line 3417, in run_code\n",
      "    exec(code_obj, self.user_global_ns, self.user_ns)\n",
      "  File \"<ipython-input-51-85ce7a3f690e>\", line 1, in <module>\n",
      "    strat.RunStrategy(divdends)\n",
      "  File \"C:\\Anshul\\money\\stockAndOptions\\Strategies\\DividendCaptureFutureStock.py\", line 18, in RunStrategy\n",
      "    returns = self.RunStrategyOnSingleDividend( dividend[0], dividend[1])\n",
      "  File \"C:\\Anshul\\money\\stockAndOptions\\Strategies\\DividendCaptureFutureStock.py\", line 27, in RunStrategyOnSingleDividend\n",
      "    future = self.DB.get_index_price_futures( self.stock, (buyDate, sellDate), futureExpiry, DataGranularity.Daily )\n",
      "  File \"C:\\Anshul\\money\\stockAndOptions\\DataFetcher\\DataBase\\DataBaseAggregator.py\", line 113, in get_index_price_futures\n",
      "    logging.warning(\"will download data for whole period as not data in DB\")\n",
      "Message: 'will download data for whole period as not data in DB'\n",
      "Arguments: ()\n"
     ]
    },
    {
     "ename": "AttributeError",
     "evalue": "'NoneType' object has no attribute 'AggregationTypes_map'",
     "output_type": "error",
     "traceback": [
      "\u001b[1;31m---------------------------------------------------------------------------\u001b[0m",
      "\u001b[1;31mAttributeError\u001b[0m                            Traceback (most recent call last)",
      "\u001b[1;32m<ipython-input-51-85ce7a3f690e>\u001b[0m in \u001b[0;36m<module>\u001b[1;34m\u001b[0m\n\u001b[1;32m----> 1\u001b[1;33m \u001b[0mstrat\u001b[0m\u001b[1;33m.\u001b[0m\u001b[0mRunStrategy\u001b[0m\u001b[1;33m(\u001b[0m\u001b[0mdivdends\u001b[0m\u001b[1;33m)\u001b[0m\u001b[1;33m\u001b[0m\u001b[1;33m\u001b[0m\u001b[0m\n\u001b[0m",
      "\u001b[1;32mC:\\Anshul\\money\\stockAndOptions\\Strategies\\DividendCaptureFutureStock.py\u001b[0m in \u001b[0;36mRunStrategy\u001b[1;34m(self, dividends)\u001b[0m\n\u001b[0;32m     16\u001b[0m     \u001b[1;32mdef\u001b[0m \u001b[0mRunStrategy\u001b[0m\u001b[1;33m(\u001b[0m\u001b[0mself\u001b[0m\u001b[1;33m,\u001b[0m \u001b[0mdividends\u001b[0m\u001b[1;33m:\u001b[0m \u001b[0mList\u001b[0m\u001b[1;33m[\u001b[0m\u001b[0mTuple\u001b[0m\u001b[1;33m[\u001b[0m\u001b[0mdatetime\u001b[0m\u001b[1;33m,\u001b[0m \u001b[0mfloat\u001b[0m\u001b[1;33m]\u001b[0m\u001b[1;33m]\u001b[0m\u001b[1;33m)\u001b[0m\u001b[1;33m:\u001b[0m\u001b[1;33m\u001b[0m\u001b[1;33m\u001b[0m\u001b[0m\n\u001b[0;32m     17\u001b[0m         \u001b[1;32mfor\u001b[0m \u001b[0mdividend\u001b[0m \u001b[1;32min\u001b[0m \u001b[0mdividends\u001b[0m\u001b[1;33m:\u001b[0m\u001b[1;33m\u001b[0m\u001b[1;33m\u001b[0m\u001b[0m\n\u001b[1;32m---> 18\u001b[1;33m             \u001b[0mreturns\u001b[0m \u001b[1;33m=\u001b[0m \u001b[0mself\u001b[0m\u001b[1;33m.\u001b[0m\u001b[0mRunStrategyOnSingleDividend\u001b[0m\u001b[1;33m(\u001b[0m \u001b[0mdividend\u001b[0m\u001b[1;33m[\u001b[0m\u001b[1;36m0\u001b[0m\u001b[1;33m]\u001b[0m\u001b[1;33m,\u001b[0m \u001b[0mdividend\u001b[0m\u001b[1;33m[\u001b[0m\u001b[1;36m1\u001b[0m\u001b[1;33m]\u001b[0m\u001b[1;33m)\u001b[0m\u001b[1;33m\u001b[0m\u001b[1;33m\u001b[0m\u001b[0m\n\u001b[0m\u001b[0;32m     19\u001b[0m             \u001b[0mprint\u001b[0m\u001b[1;33m(\u001b[0m \u001b[1;34m\"returns on dividendDate: \"\u001b[0m \u001b[1;33m+\u001b[0m \u001b[0mstr\u001b[0m\u001b[1;33m(\u001b[0m \u001b[0mdividend\u001b[0m\u001b[1;33m[\u001b[0m\u001b[1;36m0\u001b[0m\u001b[1;33m]\u001b[0m \u001b[1;33m)\u001b[0m \u001b[1;33m+\u001b[0m \u001b[1;34m\" = \"\u001b[0m \u001b[1;33m+\u001b[0m \u001b[0mreturns\u001b[0m \u001b[1;33m)\u001b[0m\u001b[1;33m\u001b[0m\u001b[1;33m\u001b[0m\u001b[0m\n\u001b[0;32m     20\u001b[0m \u001b[1;33m\u001b[0m\u001b[0m\n",
      "\u001b[1;32mC:\\Anshul\\money\\stockAndOptions\\Strategies\\DividendCaptureFutureStock.py\u001b[0m in \u001b[0;36mRunStrategyOnSingleDividend\u001b[1;34m(self, exDate, dividendAmount)\u001b[0m\n\u001b[0;32m     25\u001b[0m         \u001b[0munderlying\u001b[0m \u001b[1;33m=\u001b[0m \u001b[0mself\u001b[0m\u001b[1;33m.\u001b[0m\u001b[0mDB\u001b[0m\u001b[1;33m.\u001b[0m\u001b[0mget_index_prices\u001b[0m\u001b[1;33m(\u001b[0m\u001b[0mself\u001b[0m\u001b[1;33m.\u001b[0m\u001b[0mstock\u001b[0m\u001b[1;33m,\u001b[0m \u001b[1;33m(\u001b[0m \u001b[0mbuyDate\u001b[0m\u001b[1;33m,\u001b[0m \u001b[0msellDate\u001b[0m \u001b[1;33m)\u001b[0m\u001b[1;33m,\u001b[0m \u001b[0mDataGranularity\u001b[0m\u001b[1;33m.\u001b[0m\u001b[0mDaily\u001b[0m \u001b[1;33m)\u001b[0m\u001b[1;33m\u001b[0m\u001b[1;33m\u001b[0m\u001b[0m\n\u001b[0;32m     26\u001b[0m         \u001b[0mfutureExpiry\u001b[0m \u001b[1;33m=\u001b[0m \u001b[0mget_month_expiry\u001b[0m\u001b[1;33m(\u001b[0m \u001b[0msellDate\u001b[0m\u001b[1;33m.\u001b[0m\u001b[0myear\u001b[0m\u001b[1;33m,\u001b[0m \u001b[0msellDate\u001b[0m\u001b[1;33m.\u001b[0m\u001b[0mmonth\u001b[0m \u001b[1;33m)\u001b[0m\u001b[1;33m\u001b[0m\u001b[1;33m\u001b[0m\u001b[0m\n\u001b[1;32m---> 27\u001b[1;33m         \u001b[0mfuture\u001b[0m \u001b[1;33m=\u001b[0m \u001b[0mself\u001b[0m\u001b[1;33m.\u001b[0m\u001b[0mDB\u001b[0m\u001b[1;33m.\u001b[0m\u001b[0mget_index_price_futures\u001b[0m\u001b[1;33m(\u001b[0m \u001b[0mself\u001b[0m\u001b[1;33m.\u001b[0m\u001b[0mstock\u001b[0m\u001b[1;33m,\u001b[0m \u001b[1;33m(\u001b[0m\u001b[0mbuyDate\u001b[0m\u001b[1;33m,\u001b[0m \u001b[0msellDate\u001b[0m\u001b[1;33m)\u001b[0m\u001b[1;33m,\u001b[0m \u001b[0mfutureExpiry\u001b[0m\u001b[1;33m,\u001b[0m \u001b[0mDataGranularity\u001b[0m\u001b[1;33m.\u001b[0m\u001b[0mDaily\u001b[0m \u001b[1;33m)\u001b[0m\u001b[1;33m\u001b[0m\u001b[1;33m\u001b[0m\u001b[0m\n\u001b[0m\u001b[0;32m     28\u001b[0m \u001b[1;33m\u001b[0m\u001b[0m\n\u001b[0;32m     29\u001b[0m         \u001b[0mstockBuy\u001b[0m \u001b[1;33m=\u001b[0m \u001b[0munderlying\u001b[0m\u001b[1;33m[\u001b[0m\u001b[0mDataOptions\u001b[0m\u001b[1;33m.\u001b[0m\u001b[0mClose\u001b[0m\u001b[1;33m]\u001b[0m\u001b[1;33m[\u001b[0m\u001b[0mbuyDate\u001b[0m\u001b[1;33m]\u001b[0m\u001b[1;33m\u001b[0m\u001b[1;33m\u001b[0m\u001b[0m\n",
      "\u001b[1;32mC:\\Anshul\\money\\stockAndOptions\\DataFetcher\\DataBase\\DataBaseAggregator.py\u001b[0m in \u001b[0;36mget_index_price_futures\u001b[1;34m(self, symbol, dates, expiryDateTime, granularity, shouldDownloadData)\u001b[0m\n\u001b[0;32m    113\u001b[0m             \u001b[0mlogging\u001b[0m\u001b[1;33m.\u001b[0m\u001b[0mwarning\u001b[0m\u001b[1;33m(\u001b[0m\u001b[1;34m\"will download data for whole period as not data in DB\"\u001b[0m\u001b[1;33m)\u001b[0m\u001b[1;33m\u001b[0m\u001b[1;33m\u001b[0m\u001b[0m\n\u001b[0;32m    114\u001b[0m             \u001b[0mvalue\u001b[0m \u001b[1;33m=\u001b[0m \u001b[0mmarketDataAdapter\u001b[0m\u001b[1;33m.\u001b[0m\u001b[0mget_price_futures\u001b[0m\u001b[1;33m(\u001b[0m\u001b[0msymbol\u001b[0m\u001b[1;33m=\u001b[0m\u001b[0msymbol\u001b[0m\u001b[1;33m,\u001b[0m \u001b[0mdates\u001b[0m\u001b[1;33m=\u001b[0m\u001b[0mdates2\u001b[0m\u001b[1;33m,\u001b[0m \u001b[0mexpiryDateTime\u001b[0m\u001b[1;33m=\u001b[0m\u001b[0mexpiryDateTime\u001b[0m\u001b[1;33m)\u001b[0m\u001b[1;33m\u001b[0m\u001b[1;33m\u001b[0m\u001b[0m\n\u001b[1;32m--> 115\u001b[1;33m             \u001b[0mself\u001b[0m\u001b[1;33m.\u001b[0m\u001b[0mdataAggregator\u001b[0m\u001b[1;33m.\u001b[0m\u001b[0mForceSetValue\u001b[0m\u001b[1;33m(\u001b[0m\u001b[0mvalue\u001b[0m\u001b[1;33m)\u001b[0m\u001b[1;33m\u001b[0m\u001b[1;33m\u001b[0m\u001b[0m\n\u001b[0m\u001b[0;32m    116\u001b[0m \u001b[1;33m\u001b[0m\u001b[0m\n\u001b[0;32m    117\u001b[0m         \u001b[1;32mreturn\u001b[0m \u001b[0mself\u001b[0m\u001b[1;33m.\u001b[0m\u001b[0mSearchDataFrame\u001b[0m\u001b[1;33m(\u001b[0m\u001b[0mself\u001b[0m\u001b[1;33m.\u001b[0m\u001b[0mdataAggregator\u001b[0m\u001b[1;33m.\u001b[0m\u001b[0mGetValue\u001b[0m\u001b[1;33m(\u001b[0m\u001b[0mdataAggregations\u001b[0m\u001b[1;33m)\u001b[0m\u001b[1;33m,\u001b[0m\u001b[0mdates\u001b[0m\u001b[1;33m[\u001b[0m\u001b[1;36m0\u001b[0m\u001b[1;33m]\u001b[0m\u001b[1;33m,\u001b[0m \u001b[0mdates\u001b[0m\u001b[1;33m[\u001b[0m\u001b[1;36m1\u001b[0m\u001b[1;33m]\u001b[0m\u001b[1;33m+\u001b[0m\u001b[0mdelta\u001b[0m \u001b[1;33m)\u001b[0m\u001b[1;33m\u001b[0m\u001b[1;33m\u001b[0m\u001b[0m\n",
      "\u001b[1;32mC:\\Anshul\\money\\stockAndOptions\\DataFetcher\\DataAggregator\\DataAggregate.py\u001b[0m in \u001b[0;36mForceSetValue\u001b[1;34m(self, dataValue)\u001b[0m\n\u001b[0;32m     55\u001b[0m \u001b[1;33m\u001b[0m\u001b[0m\n\u001b[0;32m     56\u001b[0m         \u001b[1;31m# time to create a DataCell if the aggregation is the last level of aggregation\u001b[0m\u001b[1;33m\u001b[0m\u001b[1;33m\u001b[0m\u001b[1;33m\u001b[0m\u001b[0m\n\u001b[1;32m---> 57\u001b[1;33m         \u001b[1;32mif\u001b[0m\u001b[1;33m(\u001b[0m \u001b[0mself\u001b[0m\u001b[1;33m.\u001b[0m\u001b[0mAggregationType\u001b[0m \u001b[1;33m>\u001b[0m  \u001b[0mmax\u001b[0m\u001b[1;33m(\u001b[0m \u001b[0mdataValue\u001b[0m\u001b[1;33m.\u001b[0m\u001b[0mAggregationTypes_map\u001b[0m\u001b[1;33m.\u001b[0m\u001b[0mkeys\u001b[0m\u001b[1;33m(\u001b[0m\u001b[1;33m)\u001b[0m \u001b[1;33m)\u001b[0m \u001b[1;33m)\u001b[0m\u001b[1;33m:\u001b[0m\u001b[1;33m\u001b[0m\u001b[1;33m\u001b[0m\u001b[0m\n\u001b[0m\u001b[0;32m     58\u001b[0m             \u001b[0mself\u001b[0m\u001b[1;33m.\u001b[0m\u001b[0mPopulateDataFrame\u001b[0m\u001b[1;33m(\u001b[0m \u001b[0mdataValue\u001b[0m\u001b[1;33m.\u001b[0m\u001b[0mDataCell_map\u001b[0m \u001b[1;33m)\u001b[0m\u001b[1;33m\u001b[0m\u001b[1;33m\u001b[0m\u001b[0m\n\u001b[0;32m     59\u001b[0m             \u001b[1;32mreturn\u001b[0m\u001b[1;33m\u001b[0m\u001b[1;33m\u001b[0m\u001b[0m\n",
      "\u001b[1;31mAttributeError\u001b[0m: 'NoneType' object has no attribute 'AggregationTypes_map'"
     ]
    }
   ],
   "source": [
    "strat.RunStrategy(divdends)"
   ]
  },
  {
   "cell_type": "code",
   "execution_count": null,
   "metadata": {},
   "outputs": [],
   "source": []
  }
 ],
 "metadata": {
  "kernelspec": {
   "display_name": "Python 3",
   "language": "python",
   "name": "python3"
  },
  "language_info": {
   "codemirror_mode": {
    "name": "ipython",
    "version": 3
   },
   "file_extension": ".py",
   "mimetype": "text/x-python",
   "name": "python",
   "nbconvert_exporter": "python",
   "pygments_lexer": "ipython3",
   "version": "3.8.0"
  }
 },
 "nbformat": 4,
 "nbformat_minor": 2
}
